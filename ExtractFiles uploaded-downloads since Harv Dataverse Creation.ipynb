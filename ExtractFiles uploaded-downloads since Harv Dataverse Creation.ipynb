{
 "cells": [
  {
   "cell_type": "markdown",
   "metadata": {},
   "source": [
    "# FILES UPLOADED/DOWNLOADS Harvard Dataverse VISUALIZATION"
   ]
  },
  {
   "cell_type": "code",
   "execution_count": 5,
   "metadata": {},
   "outputs": [
    {
     "name": "stdout",
     "output_type": "stream",
     "text": [
      "Months since Harvard Dataverse creation: 131\n"
     ]
    }
   ],
   "source": [
    "import datetime\n",
    "import calendar\n",
    "import requests\n",
    "import json\n",
    "import pandas as pd\n",
    "\n",
    "prueba = requests.Session()\n",
    "files=[]\n",
    "downloads=[]\n",
    "dataverses=[]\n",
    "datasets=[]\n",
    "month=[]\n",
    "datetoday=datetime.datetime.today()\n",
    "\n",
    "\n",
    "def change_months(datetoday, months):\n",
    "     month = datetoday.month - 1 + months\n",
    "     year = datetoday.year + month // 12\n",
    "     month = month % 12 + 1\n",
    "     day = min(datetoday.day,calendar.monthrange(year,month)[1])\n",
    "     return datetime.date(year,month,day)\n",
    "\n",
    "from datetime import datetime\n",
    "from dateutil import relativedelta\n",
    "date1 = datetime.strptime('2007-11-01 12:00:00', '%Y-%m-%d %H:%M:%S')\n",
    "date2 = datetime.strptime(datetoday.strftime('%Y-%m-%d %H:%M:%S'), '%Y-%m-%d %H:%M:%S')\n",
    "r = relativedelta.relativedelta(date2, date1)\n",
    "monthsfromdataversecreation=(r.years)*12+r.months\n",
    "print(\"Months since Harvard Dataverse creation: \"+str(monthsfromdataversecreation))\n",
    "\n",
    "\n",
    "import datetime\n",
    "for i in range (1, monthsfromdataversecreation+1):\n",
    "    # Get the today's month\n",
    "    month.append(str(change_months(datetoday,-i).strftime(\"%m/%Y\")))\n",
    "    \n",
    "    # Get evolution of number of files uploaded since the beginning of the (data)universe\n",
    "    url=\"https://dataverse.harvard.edu/api/info/metrics/files/toMonth/\"+str(change_months(datetoday,-i).strftime(\"%Y-%m\"))\n",
    "    data = json.loads(prueba.get(url).text)\n",
    "    files.append(data['data']['count'])\n",
    "    \n",
    "    # Get evolution of number of downloads since the beginning of the (data)universe\n",
    "    url=\"https://dataverse.harvard.edu/api/info/metrics/downloads/toMonth/\"+str(change_months(datetoday,-i).strftime(\"%Y-%m\"))\n",
    "    data = json.loads(prueba.get(url).text)\n",
    "    downloads.append(data['data']['count'])\n",
    "    \n",
    "    # Get evolution of number of dataverses since the beginning of the (data)universe\n",
    "    url=\"https://dataverse.harvard.edu/api/info/metrics/dataverses/toMonth/\"+str(change_months(datetoday,-i).strftime(\"%Y-%m\"))\n",
    "    data = json.loads(prueba.get(url).text)\n",
    "    dataverses.append(data['data']['count'])\n",
    "    \n",
    "    \n",
    "    # Get evolution of number of datasets since the beginning of the (data)universe\n",
    "    url=\"https://dataverse.harvard.edu/api/info/metrics/datasets/toMonth/\"+str(change_months(datetoday,-i).strftime(\"%Y-%m\"))\n",
    "    data = json.loads(prueba.get(url).text)\n",
    "    datasets.append(data['data']['count'])"
   ]
  },
  {
   "cell_type": "markdown",
   "metadata": {},
   "source": [
    "# Create a pandas dataframe from every single extraction"
   ]
  },
  {
   "cell_type": "code",
   "execution_count": 6,
   "metadata": {},
   "outputs": [],
   "source": [
    "months=pd.DataFrame(month, columns=['Month'])\n",
    "files_df=pd.DataFrame(files, columns=['FilesUploaded'])\n",
    "downloads_df=pd.DataFrame(downloads, columns=['DownloadsUploaded'])\n",
    "downloadsperfile_df=pd.DataFrame(downloads_df['DownloadsUploaded']/files_df['FilesUploaded'],columns=['DownloadsPerFile'])\n"
   ]
  },
  {
   "cell_type": "markdown",
   "metadata": {},
   "source": [
    "# Gather all pandas dataframes created"
   ]
  },
  {
   "cell_type": "code",
   "execution_count": 7,
   "metadata": {},
   "outputs": [
    {
     "name": "stdout",
     "output_type": "stream",
     "text": [
      "       Month  FilesUploaded  DownloadsUploaded  DownloadsPerFile\n",
      "0    09/2018         257374            3966040         15.409637\n",
      "1    08/2018         253511            3629923         14.318602\n",
      "2    07/2018         248990            3327087         13.362332\n",
      "3    06/2018         245849            3191784         12.982701\n",
      "4    05/2018         239238            2783848         11.636312\n",
      "5    04/2018         234093            2650825         11.323811\n",
      "6    03/2018         228102            2504964         10.981771\n",
      "7    02/2018         225369            2444742         10.847730\n",
      "8    01/2018         222964            2360130         10.585251\n",
      "9    12/2017         220577            2289906         10.381436\n",
      "10   11/2017         216344            2239590         10.351986\n",
      "11   10/2017         214078            2151697         10.050995\n",
      "12   09/2017         211656            2080356          9.828949\n",
      "13   08/2017         210088            2018332          9.607079\n",
      "14   07/2017         207523            1970300          9.494369\n",
      "15   06/2017         204441            1918871          9.385940\n",
      "16   05/2017         199854            1867986          9.346753\n",
      "17   04/2017         197792            1753753          8.866653\n",
      "18   03/2017         194984            1693643          8.686061\n",
      "19   02/2017         192436            1603375          8.331991\n",
      "20   01/2017         190473            1517074          7.964772\n",
      "21   12/2016         189291            1461787          7.722433\n",
      "22   11/2016         187943            1402096          7.460219\n",
      "23   10/2016         183725            1346621          7.329547\n",
      "24   09/2016         177990            1293730          7.268554\n",
      "25   08/2016         159441            1242911          7.795429\n",
      "26   07/2016         146890            1202579          8.186936\n",
      "27   06/2016         145395            1162094          7.992668\n",
      "28   05/2016         142114            1118177          7.868169\n",
      "29   04/2016         136900            1076732          7.865099\n",
      "..       ...            ...                ...               ...\n",
      "101  04/2010          28303                990          0.034979\n",
      "102  03/2010          25807                946          0.036657\n",
      "103  02/2010          25122                904          0.035984\n",
      "104  01/2010          24711                853          0.034519\n",
      "105  12/2009          24315                669          0.027514\n",
      "106  11/2009          23206                662          0.028527\n",
      "107  10/2009          23125                635          0.027459\n",
      "108  09/2009          23109                607          0.026267\n",
      "109  08/2009          23023                573          0.024888\n",
      "110  07/2009          22773                544          0.023888\n",
      "111  06/2009          22692                440          0.019390\n",
      "112  05/2009          22587                408          0.018063\n",
      "113  04/2009          15279                297          0.019438\n",
      "114  03/2009          15210                283          0.018606\n",
      "115  02/2009          14641                279          0.019056\n",
      "116  01/2009          14623                238          0.016276\n",
      "117  12/2008          13039                213          0.016336\n",
      "118  11/2008          12438                165          0.013266\n",
      "119  10/2008          12423                 80          0.006440\n",
      "120  09/2008           8694                 53          0.006096\n",
      "121  08/2008           8672                 27          0.003113\n",
      "122  07/2008           7983                  2          0.000251\n",
      "123  06/2008           7938                  0          0.000000\n",
      "124  05/2008           7871                  0          0.000000\n",
      "125  04/2008           7785                  0          0.000000\n",
      "126  03/2008           7608                  0          0.000000\n",
      "127  02/2008           7551                  0          0.000000\n",
      "128  01/2008           6783                  0          0.000000\n",
      "129  12/2007           6333                  0          0.000000\n",
      "130  11/2007           5794                  0          0.000000\n",
      "\n",
      "[131 rows x 4 columns]\n"
     ]
    }
   ],
   "source": [
    "draft=pd.merge(months, files_df,left_index=True, right_index=True)\n",
    "draft2=pd.merge(draft,downloads_df, left_index=True,right_index=True)\n",
    "final=pd.merge(draft2, downloadsperfile_df, left_index=True,right_index=True)\n",
    "\n",
    "print(final)\n"
   ]
  },
  {
   "cell_type": "markdown",
   "metadata": {},
   "source": [
    "# EXPORT TO CSV"
   ]
  },
  {
   "cell_type": "code",
   "execution_count": null,
   "metadata": {},
   "outputs": [],
   "source": [
    "final.to_csv('datafiles_downloads.csv', sep=';', encoding='utf_16')"
   ]
  },
  {
   "cell_type": "markdown",
   "metadata": {},
   "source": []
  },
  {
   "cell_type": "code",
   "execution_count": null,
   "metadata": {},
   "outputs": [],
   "source": []
  },
  {
   "cell_type": "code",
   "execution_count": null,
   "metadata": {},
   "outputs": [],
   "source": []
  }
 ],
 "metadata": {
  "kernelspec": {
   "display_name": "Python 3",
   "language": "python",
   "name": "python3"
  },
  "language_info": {
   "codemirror_mode": {
    "name": "ipython",
    "version": 3
   },
   "file_extension": ".py",
   "mimetype": "text/x-python",
   "name": "python",
   "nbconvert_exporter": "python",
   "pygments_lexer": "ipython3",
   "version": "3.6.4"
  }
 },
 "nbformat": 4,
 "nbformat_minor": 2
}
