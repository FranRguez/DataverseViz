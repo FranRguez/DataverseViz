{
 "cells": [
  {
   "cell_type": "markdown",
   "metadata": {},
   "source": [
    "# FILES UPLOADED/DOWNLOADS Harvard Dataverse VISUALIZATION"
   ]
  },
  {
   "cell_type": "code",
   "execution_count": 5,
   "metadata": {},
   "outputs": [],
   "source": [
    "import datetime\n",
    "import calendar\n",
    "import requests\n",
    "import json\n",
    "import pandas as pd\n",
    "\n",
    "rangeofmonths=36\n",
    "prueba = requests.Session()\n",
    "files=[]\n",
    "downloads=[]\n",
    "month=[]\n",
    "datetoday=datetime.datetime.today()\n",
    "\n",
    "## Create a function in order to jump on months.\n",
    "def change_months(datetoday, months):\n",
    "     month = datetoday.month - 1 + months\n",
    "     year = datetoday.year + month // 12\n",
    "     month = month % 12 + 1\n",
    "     day = min(datetoday.day,calendar.monthrange(year,month)[1])\n",
    "     return datetime.date(year,month,day)\n",
    "\n",
    "for i in range (1, rangeofmonths+1):\n",
    "    # Get the month\n",
    "    month.append(str(change_months(datetoday,-i).strftime(\"%m/%Y\")))\n",
    "    \n",
    "    # Get number of files uploaded this month\n",
    "    url=\"https://dataverse.harvard.edu/api/info/metrics/files/toMonth/\"+str(change_months(datetoday,-i).strftime(\"%Y-%m\"))\n",
    "    data = json.loads(prueba.get(url).text)\n",
    "    files.append(data['data']['count'])\n",
    "    \n",
    "    # Get number of downloads this month\n",
    "    url=\"https://dataverse.harvard.edu/api/info/metrics/downloads/toMonth/\"+str(change_months(datetoday,-i).strftime(\"%Y-%m\"))\n",
    "    data = json.loads(prueba.get(url).text)\n",
    "    downloads.append(data['data']['count'])\n",
    "\n",
    "\n"
   ]
  },
  {
   "cell_type": "markdown",
   "metadata": {},
   "source": [
    "# Create a pandas dataframe from every single extraction"
   ]
  },
  {
   "cell_type": "code",
   "execution_count": 6,
   "metadata": {},
   "outputs": [],
   "source": [
    "months=pd.DataFrame(month, columns=['Month'])\n",
    "files_df=pd.DataFrame(files, columns=['FilesUploaded'])\n",
    "downloads_df=pd.DataFrame(downloads, columns=['DownloadsUploaded'])\n",
    "downloadsperfile_df=pd.DataFrame(downloads_df['DownloadsUploaded']/files_df['FilesUploaded'],columns=['DownloadsPerFile'])\n"
   ]
  },
  {
   "cell_type": "markdown",
   "metadata": {},
   "source": [
    "# Gather all pandas dataframes created"
   ]
  },
  {
   "cell_type": "code",
   "execution_count": 7,
   "metadata": {},
   "outputs": [
    {
     "name": "stdout",
     "output_type": "stream",
     "text": [
      "      Month  FilesUploaded  DownloadsUploaded  DownloadsPerFile\n",
      "0   09/2018         257374            3966040         15.409637\n",
      "1   08/2018         253511            3629923         14.318602\n",
      "2   07/2018         248990            3327087         13.362332\n",
      "3   06/2018         245849            3191784         12.982701\n",
      "4   05/2018         239238            2783848         11.636312\n",
      "5   04/2018         234093            2650825         11.323811\n",
      "6   03/2018         228102            2504964         10.981771\n",
      "7   02/2018         225369            2444742         10.847730\n",
      "8   01/2018         222964            2360130         10.585251\n",
      "9   12/2017         220577            2289906         10.381436\n",
      "10  11/2017         216344            2239590         10.351986\n",
      "11  10/2017         214078            2151697         10.050995\n",
      "12  09/2017         211656            2080356          9.828949\n",
      "13  08/2017         210088            2018332          9.607079\n",
      "14  07/2017         207523            1970300          9.494369\n",
      "15  06/2017         204441            1918871          9.385940\n",
      "16  05/2017         199854            1867986          9.346753\n",
      "17  04/2017         197792            1753753          8.866653\n",
      "18  03/2017         194984            1693643          8.686061\n",
      "19  02/2017         192436            1603375          8.331991\n",
      "20  01/2017         190473            1517074          7.964772\n",
      "21  12/2016         189291            1461787          7.722433\n",
      "22  11/2016         187943            1402096          7.460219\n",
      "23  10/2016         183725            1346621          7.329547\n",
      "24  09/2016         177990            1293730          7.268554\n",
      "25  08/2016         159441            1242911          7.795429\n",
      "26  07/2016         146890            1202579          8.186936\n",
      "27  06/2016         145395            1162094          7.992668\n",
      "28  05/2016         142114            1118177          7.868169\n",
      "29  04/2016         136900            1076732          7.865099\n",
      "30  03/2016         133066            1030931          7.747516\n",
      "31  02/2016         127130             983376          7.735200\n",
      "32  01/2016         122791             931426          7.585458\n",
      "33  12/2015         118343             895065          7.563312\n",
      "34  11/2015         112143             854986          7.624069\n",
      "35  10/2015         109559             824490          7.525534\n"
     ]
    }
   ],
   "source": [
    "draft=pd.merge(months, files_df,left_index=True, right_index=True)\n",
    "draft2=pd.merge(draft,downloads_df, left_index=True,right_index=True)\n",
    "final=pd.merge(draft2, downloadsperfile_df, left_index=True,right_index=True)\n",
    "\n",
    "print(final)"
   ]
  },
  {
   "cell_type": "code",
   "execution_count": null,
   "metadata": {},
   "outputs": [],
   "source": []
  }
 ],
 "metadata": {
  "kernelspec": {
   "display_name": "Python 3",
   "language": "python",
   "name": "python3"
  },
  "language_info": {
   "codemirror_mode": {
    "name": "ipython",
    "version": 3
   },
   "file_extension": ".py",
   "mimetype": "text/x-python",
   "name": "python",
   "nbconvert_exporter": "python",
   "pygments_lexer": "ipython3",
   "version": "3.6.4"
  }
 },
 "nbformat": 4,
 "nbformat_minor": 2
}
