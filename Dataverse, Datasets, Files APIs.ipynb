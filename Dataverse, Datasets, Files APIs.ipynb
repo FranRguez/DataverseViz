{
 "cells": [
  {
   "cell_type": "markdown",
   "metadata": {},
   "source": [
    "# This script gathers all information from Dataverse, datasets and files API, and only gets NEW ADDED UPLOADS, and puts all in the same column to be analysed."
   ]
  },
  {
   "cell_type": "code",
   "execution_count": 4,
   "metadata": {},
   "outputs": [
    {
     "name": "stdout",
     "output_type": "stream",
     "text": [
      "Months since Dataverse Creation: 131\n"
     ]
    }
   ],
   "source": [
    "import calendar\n",
    "import requests\n",
    "import json\n",
    "import pandas as pd\n",
    "import datetime\n",
    "\n",
    "prueba = requests.Session()\n",
    "files=[]\n",
    "dataverses=[]\n",
    "datasets=[]\n",
    "month=[]\n",
    "datetoday=datetime.datetime.today()\n",
    "\n",
    "# Defining a function to jump on certain months, going back and forward.\n",
    "def change_months(datetoday, months):\n",
    "     month = datetoday.month - 1 + months\n",
    "     year = datetoday.year + month // 12\n",
    "     month = month % 12 + 1\n",
    "     day = min(datetoday.day,calendar.monthrange(year,month)[1])\n",
    "     return datetime.date(year,month,day)\n",
    "\n",
    "from datetime import datetime\n",
    "from dateutil import relativedelta\n",
    "date1 = datetime.strptime('2007-11-01 12:00:00', '%Y-%m-%d %H:%M:%S') ## This is the month we consider Harvard Database creation, as it is the first month we have uploads.\n",
    "date2 = datetime.strptime(datetoday.strftime('%Y-%m-%d %H:%M:%S'), '%Y-%m-%d %H:%M:%S')\n",
    "r = relativedelta.relativedelta(date2, date1)\n",
    "monthsfromdataversecreation=(r.years)*12+r.months\n",
    "print(\"Months since Dataverse Creation: \"+str(monthsfromdataversecreation))\n",
    "\n",
    "\n"
   ]
  },
  {
   "cell_type": "code",
   "execution_count": 5,
   "metadata": {},
   "outputs": [],
   "source": [
    "\n",
    "import datetime\n",
    "for i in range (1, monthsfromdataversecreation+1):\n",
    "    # Get the today's month\n",
    "    month.append(str(change_months(datetoday,-monthsfromdataversecreation+i-1).strftime(\"%Y-%m\")))\n",
    "    \n",
    "    # Get evolution of number of files uploaded since the beginning of the (data)universe\n",
    "    url=\"https://dataverse.harvard.edu/api/info/metrics/files/toMonth/\"+str(change_months(datetoday,-monthsfromdataversecreation+i-1).strftime(\"%Y-%m\"))\n",
    "    data = json.loads(prueba.get(url).text)\n",
    "    if i == 1:\n",
    "        files.append(0)\n",
    "        keepvalue=data['data']['count']\n",
    "    if i > 1:\n",
    "        files.append(data['data']['count']-keepvalue)\n",
    "        keepvalue=data['data']['count']\n",
    "    \n",
    "    # Get evolution of number of dataverses since the beginning of the (data)universe\n",
    "    url=\"https://dataverse.harvard.edu/api/info/metrics/dataverses/toMonth/\"+str(change_months(datetoday,-monthsfromdataversecreation+i-1).strftime(\"%Y-%m\"))\n",
    "    data = json.loads(prueba.get(url).text)\n",
    "    if i == 1:\n",
    "        dataverses.append(0)\n",
    "        keepvalue2=data['data']['count']\n",
    "    if i > 1:\n",
    "        dataverses.append(data['data']['count']-keepvalue2)\n",
    "        keepvalue2=[]\n",
    "        keepvalue2=data['data']['count']\n",
    "\n",
    "    # Get evolution of number of datasets since the beginning of the (data)universe\n",
    "    url=\"https://dataverse.harvard.edu/api/info/metrics/datasets/toMonth/\"+str(change_months(datetoday,-monthsfromdataversecreation+i-1).strftime(\"%Y-%m\"))\n",
    "    data = json.loads(prueba.get(url).text)\n",
    "    if i == 1:\n",
    "        datasets.append(0)\n",
    "        keepvalue3=data['data']['count']\n",
    "    if i > 1:\n",
    "        datasets.append(data['data']['count']-keepvalue3)\n",
    "        keepvalue3=data['data']['count']\n",
    "    "
   ]
  },
  {
   "cell_type": "markdown",
   "metadata": {},
   "source": [
    "# # CREATING DATABASE: RELATIONSHIP BETWEEN NUMBER OF DATAVERSEs, DATASETS AND FILES. First, I add the column origin's name."
   ]
  },
  {
   "cell_type": "code",
   "execution_count": 6,
   "metadata": {},
   "outputs": [
    {
     "name": "stdout",
     "output_type": "stream",
     "text": [
      "       Month  UploadsNumber      Type\n",
      "0    2007-11              0     Files\n",
      "1    2007-12            539     Files\n",
      "2    2008-01            450     Files\n",
      "3    2008-02            768     Files\n",
      "4    2008-03             57     Files\n",
      "5    2008-04            177     Files\n",
      "6    2008-05             86     Files\n",
      "7    2008-06             67     Files\n",
      "8    2008-07             45     Files\n",
      "9    2008-08            689     Files\n",
      "10   2008-09             22     Files\n",
      "11   2008-10           3729     Files\n",
      "12   2008-11             15     Files\n",
      "13   2008-12            601     Files\n",
      "14   2009-01           1584     Files\n",
      "15   2009-02             18     Files\n",
      "16   2009-03            569     Files\n",
      "17   2009-04             69     Files\n",
      "18   2009-05           7308     Files\n",
      "19   2009-06            105     Files\n",
      "20   2009-07             81     Files\n",
      "21   2009-08            250     Files\n",
      "22   2009-09             86     Files\n",
      "23   2009-10             16     Files\n",
      "24   2009-11             81     Files\n",
      "25   2009-12           1109     Files\n",
      "26   2010-01            396     Files\n",
      "27   2010-02            411     Files\n",
      "28   2010-03            685     Files\n",
      "29   2010-04           2496     Files\n",
      "..       ...            ...       ...\n",
      "101  2016-04            175  Datasets\n",
      "102  2016-05            794  Datasets\n",
      "103  2016-06            194  Datasets\n",
      "104  2016-07            404  Datasets\n",
      "105  2016-08            211  Datasets\n",
      "106  2016-09            306  Datasets\n",
      "107  2016-10            181  Datasets\n",
      "108  2016-11            209  Datasets\n",
      "109  2016-12            199  Datasets\n",
      "110  2017-01            187  Datasets\n",
      "111  2017-02            216  Datasets\n",
      "112  2017-03            273  Datasets\n",
      "113  2017-04            365  Datasets\n",
      "114  2017-05            201  Datasets\n",
      "115  2017-06            282  Datasets\n",
      "116  2017-07            197  Datasets\n",
      "117  2017-08            380  Datasets\n",
      "118  2017-09            172  Datasets\n",
      "119  2017-10            229  Datasets\n",
      "120  2017-11            176  Datasets\n",
      "121  2017-12            225  Datasets\n",
      "122  2018-01            346  Datasets\n",
      "123  2018-02            247  Datasets\n",
      "124  2018-03            379  Datasets\n",
      "125  2018-04            521  Datasets\n",
      "126  2018-05            273  Datasets\n",
      "127  2018-06            422  Datasets\n",
      "128  2018-07            455  Datasets\n",
      "129  2018-08            355  Datasets\n",
      "130  2018-09            483  Datasets\n",
      "\n",
      "[393 rows x 3 columns]\n"
     ]
    }
   ],
   "source": [
    "months=pd.DataFrame(month, columns=['Month'])\n",
    "\n",
    "files_df=pd.DataFrame(files, columns=['UploadsNumber'])\n",
    "files_df['Type']=\"Files\"\n",
    "files_df_final=pd.merge(months,files_df, left_index=True,right_index=True)\n",
    "\n",
    "dataverses_df=pd.DataFrame(dataverses, columns=['UploadsNumber'])\n",
    "dataverses_df['Type']=\"Dataverse\"\n",
    "dataverses_df_final=pd.merge(months,dataverses_df, left_index=True,right_index=True)\n",
    "\n",
    "datasets_df=pd.DataFrame(datasets, columns=['UploadsNumber'])\n",
    "datasets_df['Type']=\"Datasets\"\n",
    "datasets_df_final=pd.merge(months,datasets_df, left_index=True,right_index=True)\n",
    "\n",
    "\n",
    "addedtotals=pd.concat([files_df_final, dataverses_df_final, datasets_df_final])\n",
    "print(addedtotals)"
   ]
  },
  {
   "cell_type": "code",
   "execution_count": null,
   "metadata": {},
   "outputs": [],
   "source": []
  }
 ],
 "metadata": {
  "kernelspec": {
   "display_name": "Python 3",
   "language": "python",
   "name": "python3"
  },
  "language_info": {
   "codemirror_mode": {
    "name": "ipython",
    "version": 3
   },
   "file_extension": ".py",
   "mimetype": "text/x-python",
   "name": "python",
   "nbconvert_exporter": "python",
   "pygments_lexer": "ipython3",
   "version": "3.6.4"
  }
 },
 "nbformat": 4,
 "nbformat_minor": 2
}
