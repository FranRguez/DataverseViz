{
 "cells": [
  {
   "cell_type": "markdown",
   "metadata": {},
   "source": [
    "# # # # This script gathers all information from Dataverse, datasets and files API, and only gets NEW ADDED UPLOADS. The script puts all in the same column to be analysed."
   ]
  },
  {
   "cell_type": "code",
   "execution_count": 2,
   "metadata": {},
   "outputs": [],
   "source": [
    "## Beforehand, it must be downloaded py_d3 (pip install py_d3 in console)\n",
    "%load_ext py_d3"
   ]
  },
  {
   "cell_type": "code",
   "execution_count": 3,
   "metadata": {
    "scrolled": true
   },
   "outputs": [
    {
     "name": "stdout",
     "output_type": "stream",
     "text": [
      "Months since Dataverse Creation: 134\n"
     ]
    },
    {
     "data": {
      "text/html": [
       "<div>\n",
       "<style scoped>\n",
       "    .dataframe tbody tr th:only-of-type {\n",
       "        vertical-align: middle;\n",
       "    }\n",
       "\n",
       "    .dataframe tbody tr th {\n",
       "        vertical-align: top;\n",
       "    }\n",
       "\n",
       "    .dataframe thead th {\n",
       "        text-align: right;\n",
       "    }\n",
       "</style>\n",
       "<table border=\"1\" class=\"dataframe\">\n",
       "  <thead>\n",
       "    <tr style=\"text-align: right;\">\n",
       "      <th></th>\n",
       "      <th>Month</th>\n",
       "      <th>UploadsNumber</th>\n",
       "      <th>Type</th>\n",
       "    </tr>\n",
       "  </thead>\n",
       "  <tbody>\n",
       "    <tr>\n",
       "      <th>0</th>\n",
       "      <td>2007-11</td>\n",
       "      <td>0</td>\n",
       "      <td>Files</td>\n",
       "    </tr>\n",
       "    <tr>\n",
       "      <th>1</th>\n",
       "      <td>2007-12</td>\n",
       "      <td>539</td>\n",
       "      <td>Files</td>\n",
       "    </tr>\n",
       "    <tr>\n",
       "      <th>2</th>\n",
       "      <td>2008-01</td>\n",
       "      <td>450</td>\n",
       "      <td>Files</td>\n",
       "    </tr>\n",
       "    <tr>\n",
       "      <th>3</th>\n",
       "      <td>2008-02</td>\n",
       "      <td>768</td>\n",
       "      <td>Files</td>\n",
       "    </tr>\n",
       "    <tr>\n",
       "      <th>4</th>\n",
       "      <td>2008-03</td>\n",
       "      <td>57</td>\n",
       "      <td>Files</td>\n",
       "    </tr>\n",
       "  </tbody>\n",
       "</table>\n",
       "</div>"
      ],
      "text/plain": [
       "     Month  UploadsNumber   Type\n",
       "0  2007-11              0  Files\n",
       "1  2007-12            539  Files\n",
       "2  2008-01            450  Files\n",
       "3  2008-02            768  Files\n",
       "4  2008-03             57  Files"
      ]
     },
     "execution_count": 3,
     "metadata": {},
     "output_type": "execute_result"
    }
   ],
   "source": [
    "import calendar\n",
    "import requests\n",
    "import json\n",
    "import pandas as pd\n",
    "import datetime\n",
    "\n",
    "req = requests.Session()\n",
    "files=[]\n",
    "dataverses=[]\n",
    "datasets=[]\n",
    "month=[]\n",
    "datetoday=datetime.datetime.today()\n",
    "urlbase='https://dataverse.harvard.edu/api/info/metrics/'\n",
    "\n",
    "\n",
    "# Defining a function to analyse certain months, based on today's date.\n",
    "def change_months(datetoday, months):\n",
    "     month = datetoday.month - 1 + months\n",
    "     year = datetoday.year + month // 12\n",
    "     month = month % 12 + 1\n",
    "     day = min(datetoday.day,calendar.monthrange(year,month)[1])\n",
    "     return datetime.date(year,month,day)\n",
    "    \n",
    "from datetime import datetime\n",
    "from dateutil import relativedelta\n",
    "\n",
    "date1 = datetime.strptime('2007-11-01 12:00:00', '%Y-%m-%d %H:%M:%S') ## This is the month we consider Harvard Database creation, as it is the first month we have uploads.\n",
    "date2 = datetime.strptime(datetoday.strftime('%Y-%m-%d %H:%M:%S'), '%Y-%m-%d %H:%M:%S')\n",
    "r = relativedelta.relativedelta(date2, date1)\n",
    "monthsfromdataversecreation=(r.years)*12+r.months\n",
    "print(\"Months since Dataverse Creation: \"+str(monthsfromdataversecreation))\n",
    "\n",
    "\n",
    "import datetime\n",
    "for i in range (1, monthsfromdataversecreation+1):\n",
    "    # Get  today's month\n",
    "    month.append(str(change_months(datetoday,-monthsfromdataversecreation+i-1).strftime(\"%Y-%m\")))\n",
    "    \n",
    "    # Get evolution of number of files uploaded since the beginning of the (data)universe, by jumping on each website.\n",
    "    url=urlbase+\"files/toMonth/\"+str(change_months(datetoday,-monthsfromdataversecreation+i-1).strftime(\"%Y-%m\"))\n",
    "    data = json.loads(req.get(url).text)\n",
    "    if i == 1:\n",
    "        files.append(0)\n",
    "        keepvalue=data['data']['count']\n",
    "    if i > 1:\n",
    "        files.append(data['data']['count']-keepvalue)\n",
    "        keepvalue=data['data']['count']\n",
    "    \n",
    "    # Get evolution of number of dataverses since the beginning of the (data)universe\n",
    "    url=urlbase+\"dataverses/toMonth/\"+str(change_months(datetoday,-monthsfromdataversecreation+i-1).strftime(\"%Y-%m\"))\n",
    "    data = json.loads(req.get(url).text)\n",
    "    if i == 1:\n",
    "        dataverses.append(0)\n",
    "        keepvalue2=data['data']['count']\n",
    "    if i > 1:\n",
    "        dataverses.append(data['data']['count']-keepvalue2)\n",
    "        keepvalue2=[]\n",
    "        keepvalue2=data['data']['count']\n",
    "\n",
    "    # Get evolution of number of datasets since the beginning of the (data)universe\n",
    "    url=urlbase+\"datasets/toMonth/\"+str(change_months(datetoday,-monthsfromdataversecreation+i-1).strftime(\"%Y-%m\"))\n",
    "    data = json.loads(req.get(url).text)\n",
    "    if i == 1:\n",
    "        datasets.append(0)\n",
    "        keepvalue3=data['data']['count']\n",
    "    if i > 1:\n",
    "        datasets.append(data['data']['count']-keepvalue3)\n",
    "        keepvalue3=data['data']['count']\n",
    "    \n",
    "    \n",
    "# # CREATING DATABASE: RELATIONSHIP BETWEEN NUMBER OF DATAVERSEs, DATASETS AND FILES. First, we add the column origin's name.\n",
    "\n",
    "months=pd.DataFrame(month, columns=['Month'])\n",
    "\n",
    "files_df=pd.DataFrame(files, columns=['UploadsNumber'])\n",
    "files_df['Type']=\"Files\"\n",
    "files_df_final=pd.merge(months,files_df, left_index=True,right_index=True)\n",
    "\n",
    "dataverses_df=pd.DataFrame(dataverses, columns=['UploadsNumber'])\n",
    "dataverses_df['Type']=\"Dataverse\"\n",
    "dataverses_df_final=pd.merge(months,dataverses_df, left_index=True,right_index=True)\n",
    "\n",
    "datasets_df=pd.DataFrame(datasets, columns=['UploadsNumber'])\n",
    "datasets_df['Type']=\"Datasets\"\n",
    "datasets_df_final=pd.merge(months,datasets_df, left_index=True,right_index=True)\n",
    "\n",
    "\n",
    "addedtotals=pd.concat([files_df_final, dataverses_df_final, datasets_df_final])\n",
    "addedtotals.head()\n"
   ]
  },
  {
   "cell_type": "code",
   "execution_count": 4,
   "metadata": {
    "scrolled": false
   },
   "outputs": [],
   "source": [
    "addedtotals.to_csv('added.csv', sep=\";\")\n"
   ]
  }
 ],
 "metadata": {
  "kernelspec": {
   "display_name": "Python 3",
   "language": "python",
   "name": "python3"
  },
  "language_info": {
   "codemirror_mode": {
    "name": "ipython",
    "version": 3
   },
   "file_extension": ".py",
   "mimetype": "text/x-python",
   "name": "python",
   "nbconvert_exporter": "python",
   "pygments_lexer": "ipython3",
   "version": "3.6.4"
  }
 },
 "nbformat": 4,
 "nbformat_minor": 2
}
